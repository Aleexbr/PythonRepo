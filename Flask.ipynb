{
 "cells": [
  {
   "cell_type": "code",
   "execution_count": 1,
   "id": "694ad1d0",
   "metadata": {},
   "outputs": [],
   "source": [
    "from flask import Flask"
   ]
  },
  {
   "cell_type": "code",
   "execution_count": null,
   "id": "9c9f1d21",
   "metadata": {},
   "outputs": [
    {
     "name": "stdout",
     "output_type": "stream",
     "text": [
      " * Serving Flask app \"__main__\" (lazy loading)\n",
      " * Environment: production\n",
      "\u001b[31m   WARNING: This is a development server. Do not use it in a production deployment.\u001b[0m\n",
      "\u001b[2m   Use a production WSGI server instead.\u001b[0m\n",
      " * Debug mode: off\n"
     ]
    },
    {
     "name": "stderr",
     "output_type": "stream",
     "text": [
      " * Running on http://127.0.0.1:5000/ (Press CTRL+C to quit)\n"
     ]
    }
   ],
   "source": [
    "app = Flask(__name__)\n",
    "@app.route('/') # 'htttp://www.google.com/'\n",
    "def home():\n",
    "    return \" Hello, world!\"\n",
    "app.run(port=5000)"
   ]
  },
  {
   "cell_type": "code",
   "execution_count": 7,
   "id": "02c1d016",
   "metadata": {},
   "outputs": [
    {
     "name": "stdout",
     "output_type": "stream",
     "text": [
      "f\n"
     ]
    }
   ],
   "source": [
    "print('f')"
   ]
  },
  {
   "cell_type": "code",
   "execution_count": null,
   "id": "dd8315b1",
   "metadata": {},
   "outputs": [],
   "source": [
    "stores = [\n",
    "    {\n",
    "        'name: 'My Store',\n",
    "        'items': [\n",
    "            {\n",
    "                'name': 'My Item',\n",
    "                'price': 15,99\n",
    "            }\n",
    "        ]\n",
    "    }\n",
    "]"
   ]
  },
  {
   "cell_type": "code",
   "execution_count": null,
   "id": "cd203a08",
   "metadata": {},
   "outputs": [],
   "source": [
    "from flask import Flask\n",
    "app = Flask(__name__)\n",
    "@app.route('/') # 'htttp://www.google.com/'\n",
    "def home():\n",
    "    return \" Hello, world!\"\n",
    "\n",
    "# POST /store data: {name:}\n",
    "@app.route('/store', methods=['POST'])\n",
    "def create_store():\n",
    "    pass\n",
    "\n",
    "# GET /store/<string:name>\n",
    "@app.route('/store/<string:name>')\n",
    "def get_store(name):\n",
    "    pass\n",
    "\n",
    "# GET /store\n",
    "@app.route('/store')\n",
    "def get_stores():\n",
    "    return jsonify({'stores': stores})\n",
    "\n",
    "# POST /store/<string:name>/item {name:, price:}\n",
    "@app.route('/store/<string:name>/item', methods=['POST'])\n",
    "def create_item_in_store(name):\n",
    "    pass\n",
    "\n",
    "# GET /store/<string:name>/item\n",
    "@app.route('/store/<string:name>/item')\n",
    "def get_item_in_store(name):\n",
    "    pass\n",
    "\n",
    "app.run(port=5000)"
   ]
  }
 ],
 "metadata": {
  "kernelspec": {
   "display_name": "Python 3 (ipykernel)",
   "language": "python",
   "name": "python3"
  },
  "language_info": {
   "codemirror_mode": {
    "name": "ipython",
    "version": 3
   },
   "file_extension": ".py",
   "mimetype": "text/x-python",
   "name": "python",
   "nbconvert_exporter": "python",
   "pygments_lexer": "ipython3",
   "version": "3.9.12"
  }
 },
 "nbformat": 4,
 "nbformat_minor": 5
}
