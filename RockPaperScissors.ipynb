{
 "cells": [
  {
   "cell_type": "code",
   "execution_count": 1,
   "id": "0db613cb",
   "metadata": {},
   "outputs": [
    {
     "name": "stdout",
     "output_type": "stream",
     "text": [
      "what do you choose? Type 0 for Rock, 1 for Paper and 2 for Scissors:  1\n",
      "\n",
      "    _______\n",
      "---'   ____)____\n",
      "          ______)\n",
      "          _______)\n",
      "         _______)\n",
      "---.__________)\n",
      "\n",
      "\n",
      "    _______\n",
      "---'   ____)____\n",
      "          ______)\n",
      "       __________)\n",
      "      (____)\n",
      "---.__(___)\n",
      "\n",
      "computer choose: scissors\n",
      "you lost\n"
     ]
    }
   ],
   "source": [
    "rock = '''\n",
    "    _______\n",
    "---'   ____)\n",
    "      (_____)\n",
    "      (_____)\n",
    "      (____)\n",
    "---.__(___)\n",
    "'''\n",
    "\n",
    "paper = '''\n",
    "    _______\n",
    "---'   ____)____\n",
    "          ______)\n",
    "          _______)\n",
    "         _______)\n",
    "---.__________)\n",
    "'''\n",
    "\n",
    "scissors = '''\n",
    "    _______\n",
    "---'   ____)____\n",
    "          ______)\n",
    "       __________)\n",
    "      (____)\n",
    "---.__(___)\n",
    "'''\n",
    "choose = input(\"what do you choose? Type 0 for Rock, 1 for Paper and 2 for Scissors:  \")\n",
    "\n",
    "if choose == \"0\":\n",
    "  print(rock)\n",
    "elif choose == \"1\":\n",
    "  print(paper)\n",
    "elif choose == \"2\":\n",
    "  print(scissors)\n",
    "else:\n",
    "  print(\"pick a number from 1-3\")\n",
    "\n",
    "\n",
    "RPS = [rock, paper, scissors]\n",
    "RPS2=[\"rock\",\"paper\",\"scissors\"]\n",
    "import random\n",
    "random_RPS = random.randint(0, int(len(RPS)-1))\n",
    "print(RPS[random_RPS])\n",
    "print(\"computer choose: \"+RPS2[random_RPS])\n",
    "\n",
    "if int(choose) == random_RPS:\n",
    "  print(\"REMIS\")\n",
    "elif choose == \"0\" and random_RPS == 2:\n",
    "  print(\"you won!!\")\n",
    "elif choose == \"1\" and random_RPS == 0:\n",
    "  print(\"you won!!\")\n",
    "elif choose == \"2\" and random_RPS == 1:\n",
    "  print(\"you won!\")\n",
    "else:\n",
    "  print(\"you lost\")"
   ]
  },
  {
   "cell_type": "code",
   "execution_count": null,
   "id": "70a8ab3a",
   "metadata": {},
   "outputs": [],
   "source": []
  }
 ],
 "metadata": {
  "kernelspec": {
   "display_name": "Python 3 (ipykernel)",
   "language": "python",
   "name": "python3"
  },
  "language_info": {
   "codemirror_mode": {
    "name": "ipython",
    "version": 3
   },
   "file_extension": ".py",
   "mimetype": "text/x-python",
   "name": "python",
   "nbconvert_exporter": "python",
   "pygments_lexer": "ipython3",
   "version": "3.9.12"
  }
 },
 "nbformat": 4,
 "nbformat_minor": 5
}
