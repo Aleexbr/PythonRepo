{
 "cells": [
  {
   "cell_type": "code",
   "execution_count": null,
   "id": "4898d12f",
   "metadata": {},
   "outputs": [
    {
     "name": "stdout",
     "output_type": "stream",
     "text": [
      "Welcome to the Number Guessing Game!\n",
      "Choose a number between 1 and 100\n"
     ]
    }
   ],
   "source": [
    "import random\n",
    "\n",
    "EASY_LEVEL_TURNS = 10\n",
    "HARD_LEVEL_TURNS = 5\n",
    "\n",
    "def guessing(guess,answer,turns):\n",
    "    if guess > answer:\n",
    "        print(\"Too high, try again.\")\n",
    "        return turns - 1\n",
    "    elif guess < answer:\n",
    "        print(\"Too low, try again.\")\n",
    "        return turns - 1\n",
    "    else:\n",
    "        print(\"YOU WON!\")\n",
    "\n",
    "def set_difficulty():\n",
    "    level = input(\"Choose a difficulty. Type 'e' for easy and 'h' for hard:\")\n",
    "    if level == \"e\":\n",
    "        return EASY_LEVEL_TURNS\n",
    "    elif level == \"h\":\n",
    "        return HARD_LEVEL_TURNS\n",
    "    \n",
    "def game():\n",
    "    print(\"Welcome to the Number Guessing Game!\")\n",
    "    print(\"Choose a number between 1 and 100\")\n",
    "    answer = random.randint(1,100)\n",
    "    #print(answer)\n",
    "\n",
    "    turns = set_difficulty()\n",
    "    guess = 0\n",
    "    while guess != answer:\n",
    "        print(f\"You have {turns} attempts remaining to guess the number.\")\n",
    "        guess = int(input(\"Make a guess: \"))\n",
    "        turns = guessing(guess,answer,turns)\n",
    "        if turns == 0:\n",
    "            print(\" LOOSE \")\n",
    "            return\n",
    "        elif guess!=answer:\n",
    "            print(\"Gu|ess again\")\n",
    "game()"
   ]
  },
  {
   "cell_type": "code",
   "execution_count": null,
   "id": "0ef529ed",
   "metadata": {},
   "outputs": [],
   "source": []
  }
 ],
 "metadata": {
  "kernelspec": {
   "display_name": "Python 3 (ipykernel)",
   "language": "python",
   "name": "python3"
  },
  "language_info": {
   "codemirror_mode": {
    "name": "ipython",
    "version": 3
   },
   "file_extension": ".py",
   "mimetype": "text/x-python",
   "name": "python",
   "nbconvert_exporter": "python",
   "pygments_lexer": "ipython3",
   "version": "3.9.12"
  }
 },
 "nbformat": 4,
 "nbformat_minor": 5
}
