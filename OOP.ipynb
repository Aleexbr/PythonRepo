{
 "cells": [
  {
   "cell_type": "code",
   "execution_count": 3,
   "id": "b676b0ff",
   "metadata": {},
   "outputs": [],
   "source": [
    "class Store:\n",
    "    def __init__(self, name):\n",
    "        # You'll need 'name' as an argument to this method.\n",
    "        self.name = name\n",
    "        self.items = []\n",
    "    \n",
    "    def add_item(self, name, price):\n",
    "        items = {'name': name, 'price':price}\n",
    "        self.items.append(item)\n",
    "\n",
    "    def stock_price(self):\n",
    "#        total = 0\n",
    "#        for item in self.items:\n",
    "#            total += item['price']\n",
    "#        return total    \n",
    "        return sum([items['price'] for item in self.items])"
   ]
  },
  {
   "cell_type": "code",
   "execution_count": 4,
   "id": "7fe16dc2",
   "metadata": {},
   "outputs": [
    {
     "name": "stdout",
     "output_type": "stream",
     "text": [
      "instance method: <__main__.ClassTest object at 0x00000272A63A7580>\n",
      "instance method: <__main__.ClassTest object at 0x00000272A63A7580>\n"
     ]
    }
   ],
   "source": [
    "class ClassTest:\n",
    "    def instance_method(self):\n",
    "        print(f\"instance method: {self}\")\n",
    "        \n",
    "test = ClassTest()\n",
    "\n",
    "#1\n",
    "test.instance_method()\n",
    "#2\n",
    "ClassTest.instance_method(test)"
   ]
  },
  {
   "cell_type": "code",
   "execution_count": 13,
   "id": "6b2d90e6",
   "metadata": {},
   "outputs": [
    {
     "name": "stdout",
     "output_type": "stream",
     "text": [
      "<HP, hardcover, 200>\n",
      "<HP2, paperback, 324>\n",
      "<HP3, d, 400>\n"
     ]
    }
   ],
   "source": [
    "class Book:\n",
    "    TYPES = (\"hardcover\",\"paperback\")\n",
    "    def __init__(self, name, book_type, weight):\n",
    "        self.name = name\n",
    "        self.book_type = book_type\n",
    "        self.weight = weight\n",
    "    def __repr__(self):\n",
    "        return f\"<{self.name}, {self.book_type}, {self.weight}>\"\n",
    "    \n",
    "    @classmethod\n",
    "    def hardcover(cls, bname, page_weight):\n",
    "        return cls(bname, cls.TYPES[0], page_weight + 100)\n",
    "    \n",
    "    @classmethod\n",
    "    def paperback(cls, bname, page_weight):\n",
    "        return cls(bname, cls.TYPES[1], page_weight)\n",
    "    \n",
    "    \n",
    "book = Book.hardcover(\"HP\",100)\n",
    "light = Book.paperback(\"HP2\",324)\n",
    "dark = Book(\"HP3\",\"d\",400)\n",
    "print(book)\n",
    "print(light)\n",
    "print(dark)\n"
   ]
  },
  {
   "cell_type": "code",
   "execution_count": 47,
   "id": "4af82797",
   "metadata": {},
   "outputs": [
    {
     "ename": "AttributeError",
     "evalue": "'str' object has no attribute 'name'",
     "output_type": "error",
     "traceback": [
      "\u001b[1;31m---------------------------------------------------------------------------\u001b[0m",
      "\u001b[1;31mAttributeError\u001b[0m                            Traceback (most recent call last)",
      "\u001b[1;32mC:\\Users\\ALEKSA~1\\AppData\\Local\\Temp/ipykernel_9500/3495697373.py\u001b[0m in \u001b[0;36m<module>\u001b[1;34m\u001b[0m\n\u001b[0;32m     28\u001b[0m         \u001b[1;32mreturn\u001b[0m \u001b[1;34m'{}, tota stock price: {}'\u001b[0m\u001b[1;33m.\u001b[0m\u001b[0mformat\u001b[0m\u001b[1;33m(\u001b[0m\u001b[0mstore\u001b[0m\u001b[1;33m.\u001b[0m\u001b[0mname\u001b[0m\u001b[1;33m,\u001b[0m \u001b[0mint\u001b[0m\u001b[1;33m(\u001b[0m\u001b[0mstore\u001b[0m\u001b[1;33m.\u001b[0m\u001b[0mstock_price\u001b[0m\u001b[1;33m(\u001b[0m\u001b[1;33m)\u001b[0m\u001b[1;33m)\u001b[0m\u001b[1;33m)\u001b[0m\u001b[1;33m\u001b[0m\u001b[1;33m\u001b[0m\u001b[0m\n\u001b[0;32m     29\u001b[0m \u001b[1;33m\u001b[0m\u001b[0m\n\u001b[1;32m---> 30\u001b[1;33m \u001b[0mstore\u001b[0m \u001b[1;33m=\u001b[0m \u001b[0mStore\u001b[0m\u001b[1;33m.\u001b[0m\u001b[0mfranchise\u001b[0m\u001b[1;33m(\u001b[0m\u001b[1;34m\"C\"\u001b[0m\u001b[1;33m)\u001b[0m\u001b[1;33m\u001b[0m\u001b[1;33m\u001b[0m\u001b[0m\n\u001b[0m\u001b[0;32m     31\u001b[0m \u001b[0mprint\u001b[0m\u001b[1;33m(\u001b[0m\u001b[0mstore\u001b[0m\u001b[1;33m)\u001b[0m\u001b[1;33m\u001b[0m\u001b[1;33m\u001b[0m\u001b[0m\n",
      "\u001b[1;32mC:\\Users\\ALEKSA~1\\AppData\\Local\\Temp/ipykernel_9500/3495697373.py\u001b[0m in \u001b[0;36mfranchise\u001b[1;34m(cls, store)\u001b[0m\n\u001b[0;32m     19\u001b[0m     \u001b[1;32mdef\u001b[0m \u001b[0mfranchise\u001b[0m\u001b[1;33m(\u001b[0m\u001b[0mcls\u001b[0m\u001b[1;33m,\u001b[0m \u001b[0mstore\u001b[0m\u001b[1;33m)\u001b[0m\u001b[1;33m:\u001b[0m\u001b[1;33m\u001b[0m\u001b[1;33m\u001b[0m\u001b[0m\n\u001b[0;32m     20\u001b[0m         \u001b[1;31m# Return another store, with the same name as the argument's name, plus \" - franchise\"\u001b[0m\u001b[1;33m\u001b[0m\u001b[1;33m\u001b[0m\u001b[0m\n\u001b[1;32m---> 21\u001b[1;33m         \u001b[1;32mreturn\u001b[0m \u001b[0mcls\u001b[0m\u001b[1;33m(\u001b[0m\u001b[0mstore\u001b[0m\u001b[1;33m.\u001b[0m\u001b[0mname\u001b[0m \u001b[1;33m+\u001b[0m \u001b[1;34m\" - franchise\"\u001b[0m\u001b[1;33m)\u001b[0m\u001b[1;33m\u001b[0m\u001b[1;33m\u001b[0m\u001b[0m\n\u001b[0m\u001b[0;32m     22\u001b[0m         \u001b[1;31m#return f\"{store} +  - franchise\"\u001b[0m\u001b[1;33m\u001b[0m\u001b[1;33m\u001b[0m\u001b[0m\n\u001b[0;32m     23\u001b[0m     \u001b[1;33m@\u001b[0m\u001b[0mstaticmethod\u001b[0m\u001b[1;33m\u001b[0m\u001b[1;33m\u001b[0m\u001b[0m\n",
      "\u001b[1;31mAttributeError\u001b[0m: 'str' object has no attribute 'name'"
     ]
    }
   ],
   "source": [
    "class Store:\n",
    "    def __init__(self, name):\n",
    "        self.name = name\n",
    "        self.items = []\n",
    "\n",
    "    def add_item(self, name, price):\n",
    "        self.items.append({\n",
    "            'name': name,\n",
    "            'price': price\n",
    "        })\n",
    "\n",
    "    def stock_price(self):\n",
    "        total = 0\n",
    "        for item in self.items:\n",
    "            total += item['price']\n",
    "        return total\n",
    "\n",
    "    @classmethod\n",
    "    def franchise(cls, store):\n",
    "        # Return another store, with the same name as the argument's name, plus \" - franchise\"\n",
    "        return cls(store.name + \" - franchise\") \n",
    "        #return f\"{store} +  - franchise\"\n",
    "    @staticmethod\n",
    "    def store_details(store):\n",
    "        # Return a string representing the argument\n",
    "        # It should be in the format 'NAME, total stock price: TOTAL'\n",
    "       # return f'{store.name}, total stock price: {int(store.stock_price())}'\n",
    "        return '{}, total stock price: {}'.format(store.name, int(store.stock_price()))\n"
   ]
  },
  {
   "cell_type": "code",
   "execution_count": null,
   "id": "0d899cae",
   "metadata": {},
   "outputs": [],
   "source": []
  }
 ],
 "metadata": {
  "kernelspec": {
   "display_name": "Python 3 (ipykernel)",
   "language": "python",
   "name": "python3"
  },
  "language_info": {
   "codemirror_mode": {
    "name": "ipython",
    "version": 3
   },
   "file_extension": ".py",
   "mimetype": "text/x-python",
   "name": "python",
   "nbconvert_exporter": "python",
   "pygments_lexer": "ipython3",
   "version": "3.9.12"
  }
 },
 "nbformat": 4,
 "nbformat_minor": 5
}
